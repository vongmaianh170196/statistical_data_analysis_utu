{
  "nbformat": 4,
  "nbformat_minor": 0,
  "metadata": {
    "colab": {
      "provenance": [],
      "authorship_tag": "ABX9TyPaq6jOdvjUuQWMhUeHhRb4",
      "include_colab_link": true
    },
    "kernelspec": {
      "name": "python3",
      "display_name": "Python 3"
    },
    "language_info": {
      "name": "python"
    }
  },
  "cells": [
    {
      "cell_type": "markdown",
      "metadata": {
        "id": "view-in-github",
        "colab_type": "text"
      },
      "source": [
        "<a href=\"https://colab.research.google.com/github/vongmaianh170196/statistical_data_analysis_utu/blob/main/Exercise4.ipynb\" target=\"_parent\"><img src=\"https://colab.research.google.com/assets/colab-badge.svg\" alt=\"Open In Colab\"/></a>"
      ]
    },
    {
      "cell_type": "code",
      "execution_count": null,
      "metadata": {
        "colab": {
          "base_uri": "https://localhost:8080/"
        },
        "id": "228ygvVjAtQ2",
        "outputId": "6695e400-7645-473e-bcf1-d0046ac46654"
      },
      "outputs": [
        {
          "output_type": "stream",
          "name": "stdout",
          "text": [
            "1.a)\n",
            "Dice data uses One-way ANOVA\n",
            "P-Value: 0.8918065510154998\n",
            "1.b)\n",
            "Chi-squared Test for Nordic Countries Data as it is categorical variables:\n",
            "P-Value: 0.6369783501089177\n"
          ]
        }
      ],
      "source": [
        "from scipy.stats import shapiro, f_oneway, kruskal, chi2_contingency\n",
        "import numpy as np\n",
        "import pandas as pd\n",
        "\n",
        "# 1.a\n",
        "dice_data = [\n",
        "    [2, 3, 5, 4, 4, 3],\n",
        "    [4, 2, 3, 5, 2, 3],\n",
        "    [3, 1, 4, 4, 3, 5]\n",
        "]\n",
        "\n",
        "normality = []\n",
        "for group in dice_data:\n",
        "    _, p_value = shapiro(group)\n",
        "    normality.append(p_value > 0.05)\n",
        "\n",
        "normality_dice = normality\n",
        "\n",
        "if all(normality_dice):\n",
        "    _, p_value_dice = f_oneway(*dice_data)\n",
        "    selected_test = \"One-way ANOVA\"\n",
        "else:\n",
        "    _, p_value_dice = kruskal(*dice_data)\n",
        "    selected_test = \"Kruskal-Wallis\"\n",
        "\n",
        "print(\"1.a)\")\n",
        "print(f\"Dice data uses {selected_test}\")\n",
        "print(f\"P-Value: {p_value_dice}\")\n",
        "\n",
        "\n",
        "from scipy.stats import chi2_contingency\n",
        "\n",
        "# 1.b)\n",
        "nordic_countries_data = [\n",
        "    ['Fi', 'Sw', 'Fi', 'No', 'Sw', 'Fi'],\n",
        "    ['No', 'Sw', 'No', 'Fi', 'Fi', 'Fi'],\n",
        "    ['Sw', 'Fi', 'No', 'Sw', 'Sw', 'No']\n",
        "]\n",
        "\n",
        "observed_counts = []\n",
        "for group in nordic_countries_data:\n",
        "    unique_values, counts = np.unique(group, return_counts=True)\n",
        "    observed_counts.append(counts)\n",
        "\n",
        "_, p_value_nordic, _, _ = chi2_contingency(observed_counts)\n",
        "\n",
        "print(\"1.b)\")\n",
        "print(\"Chi-squared Test for Nordic Countries Data as it is categorical variables:\")\n",
        "print(f\"P-Value: {p_value_nordic}\")\n"
      ]
    },
    {
      "cell_type": "code",
      "source": [],
      "metadata": {
        "id": "ctoM1XevCU19"
      },
      "execution_count": null,
      "outputs": []
    },
    {
      "cell_type": "markdown",
      "source": [
        "2.\n",
        "\n",
        "  a. As mentioned in the text \"P value was calculated by two-sided unpaired Kruskal-Wallis rank sum test\". But Idk why other than they have 3 groups nLung, SSN, mLUAD\n",
        "\n",
        "  b. (;...;)"
      ],
      "metadata": {
        "id": "Z7hNWyM9mBm8"
      }
    },
    {
      "cell_type": "code",
      "source": [
        "from scipy.stats import shapiro, f_oneway, kruskal, chi2_contingency\n",
        "import numpy as np\n",
        "import pandas as pd\n",
        "df = pd.read_csv('data.csv', delimiter=',', index_col=0)\n",
        "df.head()\n",
        "\n",
        "column_F = df[\"F\"]\n",
        "column_G = df[\"G\"]\n",
        "column_H = df[\"H\"]\n",
        "column_I = df[\"I\"]\n",
        "\n",
        "def check_normality(data):\n",
        "    _, p_value = shapiro(data)\n",
        "    return p_value > 0.05\n",
        "\n",
        "is_normal_F = check_normality(column_F)\n",
        "is_normal_G = check_normality(column_G)\n",
        "is_normal_H = check_normality(column_H)\n",
        "is_normal_I = check_normality(column_I)\n",
        "\n",
        "def get_p_value(col_1, col_2, col_3):\n",
        "  if check_normality(col_1) and check_normality(col_2) and check_normality(col_3):\n",
        "      f_statistic, p_value = f_oneway(col_1, col_2, col_3)\n",
        "      test_used = \"One-way ANOVA\"\n",
        "  else:\n",
        "      _, p_value = kruskal(col_1, col_2, col_3)\n",
        "      test_used = \"Kruskal-Wallis\"\n",
        "  return f\"{test_used} test P-Value: {p_value}\"\n",
        "\n",
        "result = get_p_value(column_F, column_G, column_H)\n",
        "print(f\"3.a) {result}\")\n",
        "\n",
        "result = get_p_value(column_F, column_G, column_I)\n",
        "print(f\"3.b) {result}\")\n"
      ],
      "metadata": {
        "colab": {
          "base_uri": "https://localhost:8080/"
        },
        "id": "uTnyYHOGGU7z",
        "outputId": "b03e107f-4221-4494-f623-f1094b6aefa6"
      },
      "execution_count": null,
      "outputs": [
        {
          "output_type": "stream",
          "name": "stdout",
          "text": [
            "3.a) One-way ANOVA test P-Value: 0.040288402932985905\n",
            "3.b) Kruskal-Wallis test P-Value: 1.1990327166649803e-08\n"
          ]
        }
      ]
    },
    {
      "cell_type": "code",
      "source": [
        "import pandas as pd\n",
        "from scipy import stats\n",
        "\n",
        "print(\"5.\")\n",
        "\n",
        "data = pd.read_csv('horse-colic.data.csv', header=None, delimiter=r\"\\s+\", na_values='?')\n",
        "print(data.head(20))\n",
        "data.columns = [\n",
        "    'surgery', 'age', 'hospital_number', 'rectal_temperature', 'pulse',\n",
        "    'respiratory_rate', 'temperature_of_extremities', 'peripheral_pulse',\n",
        "    'mucous_membranes', 'capillary_refill_time', 'pain', 'peristalsis',\n",
        "    'abdominal_distension', 'nasogastric_tube', 'nasogastric_reflux',\n",
        "    'nasogastric_reflux_PH', 'rectal_examination_feces', 'abdomen',\n",
        "    'packed_cell_volume', 'total_protein', 'abdominocentesis_appearance',\n",
        "    'abdominocentesis_total_protein', 'outcome', 'surgical_lesion',\n",
        "    'first_lesion_type', 'second_lesion_type', 'third_lesion_type','cp_data'\n",
        "]\n",
        "test_cols = ['rectal_temperature', 'age', 'pulse']\n",
        "\n",
        "surgery_group = data[data['surgery'] == 1]\n",
        "no_surgery_group = data[data['surgery'] == 2]\n",
        "alpha = 0.05\n",
        "\n",
        "for col in test_cols:\n",
        "    _, p_value_surgery = stats.shapiro(surgery_group[col].dropna())\n",
        "    _, p_value_no_surgery = stats.shapiro(no_surgery_group[col].dropna())\n",
        "\n",
        "    print(f\"{col}\")\n",
        "\n",
        "    if p_value_surgery > alpha and p_value_no_surgery > alpha:\n",
        "        t_statistic, p_value = stats.ttest_ind(\n",
        "            surgery_group[col].dropna(), no_surgery_group[col].dropna()\n",
        "        )\n",
        "        print(f\"T-statistic: {t_statistic}\")\n",
        "        print(f\"P-value: {p_value}\")\n",
        "        if p_value < alpha:\n",
        "            print(\"There is a significant difference.\")\n",
        "        else:\n",
        "            print(\"No significant difference.\")\n",
        "    else:\n",
        "        _, p_value_mw = stats.mannwhitneyu(\n",
        "            surgery_group[col].dropna(), no_surgery_group[col].dropna()\n",
        "        )\n",
        "        print(f\"Mann-Whitney U p-value: {p_value_mw}\")\n",
        "\n",
        "        if p_value_mw < alpha:\n",
        "            print(\"There is a significant difference.\")\n",
        "        else:\n",
        "            print(\"No significant difference.\")\n",
        "\n",
        "    print(\"\\n\")\n"
      ],
      "metadata": {
        "colab": {
          "base_uri": "https://localhost:8080/"
        },
        "id": "6qWrZEHoCWSE",
        "outputId": "ae18cb39-59e3-4edf-91f8-3f694b36573c"
      },
      "execution_count": null,
      "outputs": [
        {
          "output_type": "stream",
          "name": "stdout",
          "text": [
            "5.\n",
            "     0   1        2     3      4     5    6    7    8    9   ...    18    19  \\\n",
            "0   2.0   1   530101  38.5   66.0  28.0  3.0  3.0  NaN  2.0  ...  45.0   8.4   \n",
            "1   1.0   1   534817  39.2   88.0  20.0  NaN  NaN  4.0  1.0  ...  50.0  85.0   \n",
            "2   2.0   1   530334  38.3   40.0  24.0  1.0  1.0  3.0  1.0  ...  33.0   6.7   \n",
            "3   1.0   9  5290409  39.1  164.0  84.0  4.0  1.0  6.0  2.0  ...  48.0   7.2   \n",
            "4   2.0   1   530255  37.3  104.0  35.0  NaN  NaN  6.0  2.0  ...  74.0   7.4   \n",
            "5   2.0   1   528355   NaN    NaN   NaN  2.0  1.0  3.0  1.0  ...   NaN   NaN   \n",
            "6   1.0   1   526802  37.9   48.0  16.0  1.0  1.0  1.0  1.0  ...  37.0   7.0   \n",
            "7   1.0   1   529607   NaN   60.0   NaN  3.0  NaN  NaN  1.0  ...  44.0   8.3   \n",
            "8   2.0   1   530051   NaN   80.0  36.0  3.0  4.0  3.0  1.0  ...  38.0   6.2   \n",
            "9   2.0   9  5299629  38.3   90.0   NaN  1.0  NaN  1.0  1.0  ...  40.0   6.2   \n",
            "10  1.0   1   528548  38.1   66.0  12.0  3.0  3.0  5.0  1.0  ...  44.0   6.0   \n",
            "11  2.0   1   527927  39.1   72.0  52.0  2.0  NaN  2.0  1.0  ...  50.0   7.8   \n",
            "12  1.0   1   528031  37.2   42.0  12.0  2.0  1.0  1.0  1.0  ...   NaN   7.0   \n",
            "13  2.0   9  5291329  38.0   92.0  28.0  1.0  1.0  2.0  1.0  ...  37.0   6.1   \n",
            "14  1.0   1   534917  38.2   76.0  28.0  3.0  1.0  1.0  1.0  ...  46.0  81.0   \n",
            "15  1.0   1   530233  37.6   96.0  48.0  3.0  1.0  4.0  1.0  ...  45.0   6.8   \n",
            "16  1.0   9  5301219   NaN  128.0  36.0  3.0  3.0  4.0  2.0  ...  53.0   7.8   \n",
            "17  2.0   1   526639  37.5   48.0  24.0  NaN  NaN  NaN  NaN  ...   NaN   NaN   \n",
            "18  1.0   1  5290481  37.6   64.0  21.0  1.0  1.0  2.0  1.0  ...  40.0   7.0   \n",
            "19  2.0   1   532110  39.4  110.0  35.0  4.0  3.0  6.0  NaN  ...  55.0   8.7   \n",
            "\n",
            "     20   21   22  23     24  25  26  27  \n",
            "0   NaN  NaN  2.0   2  11300   0   0   2  \n",
            "1   2.0  2.0  3.0   2   2208   0   0   2  \n",
            "2   NaN  NaN  1.0   2      0   0   0   1  \n",
            "3   3.0  5.3  2.0   1   2208   0   0   1  \n",
            "4   NaN  NaN  2.0   2   4300   0   0   2  \n",
            "5   NaN  NaN  1.0   2      0   0   0   2  \n",
            "6   NaN  NaN  1.0   1   3124   0   0   2  \n",
            "7   NaN  NaN  2.0   1   2208   0   0   2  \n",
            "8   NaN  NaN  3.0   1   3205   0   0   2  \n",
            "9   1.0  2.2  1.0   2      0   0   0   1  \n",
            "10  2.0  3.6  1.0   1   2124   0   0   1  \n",
            "11  NaN  NaN  1.0   1   2111   0   0   2  \n",
            "12  NaN  NaN  1.0   2   4124   0   0   2  \n",
            "13  1.0  NaN  2.0   2      0   0   0   1  \n",
            "14  1.0  2.0  1.0   1   2112   0   0   2  \n",
            "15  NaN  NaN  2.0   1   3207   0   0   2  \n",
            "16  3.0  4.7  2.0   2   1400   0   0   1  \n",
            "17  NaN  NaN  1.0   2      0   0   0   2  \n",
            "18  1.0  NaN  1.0   1   4205   0   0   1  \n",
            "19  NaN  NaN  1.0   2      0   0   0   2  \n",
            "\n",
            "[20 rows x 28 columns]\n",
            "rectal_temperature\n",
            "Mann-Whitney U p-value: 0.5115756499221304\n",
            "No significant difference.\n",
            "\n",
            "\n",
            "age\n",
            "Mann-Whitney U p-value: 0.12345570566499567\n",
            "No significant difference.\n",
            "\n",
            "\n",
            "pulse\n",
            "Mann-Whitney U p-value: 0.0017131378639079313\n",
            "There is a significant difference.\n",
            "\n",
            "\n"
          ]
        }
      ]
    }
  ]
}