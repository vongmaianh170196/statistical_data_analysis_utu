{
  "cells": [
    {
      "cell_type": "markdown",
      "metadata": {
        "id": "view-in-github",
        "colab_type": "text"
      },
      "source": [
        "<a href=\"https://colab.research.google.com/github/vongmaianh170196/statistical_data_analysis_utu/blob/main/Exercise3.ipynb\" target=\"_parent\"><img src=\"https://colab.research.google.com/assets/colab-badge.svg\" alt=\"Open In Colab\"/></a>"
      ]
    },
    {
      "cell_type": "code",
      "execution_count": null,
      "id": "80ffa10d-fa7e-4013-ad4f-447f7c393a7b",
      "metadata": {
        "colab": {
          "base_uri": "https://localhost:8080/"
        },
        "id": "80ffa10d-fa7e-4013-ad4f-447f7c393a7b",
        "outputId": "b9498756-a73d-4da7-efb3-a857795292d5"
      },
      "outputs": [
        {
          "output_type": "stream",
          "name": "stdout",
          "text": [
            "A vs B p-value = 0.9507932942353805\n",
            "A vs C p-value = 0.5189924682098411\n",
            "B vs C p-value = 0.6875\n"
          ]
        }
      ],
      "source": [
        "import pandas as pd\n",
        "from scipy import stats\n",
        "\n",
        "# 1\n",
        "data_A = (34, 23, 51, 47, 34)\n",
        "data_B = (48, 27, 33, 45, 41, 35)\n",
        "data_C = (34, 53, 54, 28, 52, 29)\n",
        "\n",
        "#missing: check the shapiro so that we can check whether it is normally distributed\n",
        "\n",
        "t_test_AB = stats.ttest_ind(data_A, data_B)\n",
        "t_test_AC = stats.mannwhitneyu(data_A, data_C)\n",
        "t_test_BC = stats.wilcoxon(data_B, data_C) # C and B are not sure if it is paired or unpaired so need to do both wilcoxon an dmeanwhitneyu\n",
        "\n",
        "print(f'A vs B p-value = {t_test_AB.pvalue}')\n",
        "print(f'A vs C p-value = {t_test_AC.pvalue}')\n",
        "print(f'B vs C p-value = {t_test_BC.pvalue}')\n"
      ]
    },
    {
      "cell_type": "markdown",
      "source": [],
      "metadata": {
        "id": "QZ2piE5Li7HI"
      },
      "id": "QZ2piE5Li7HI"
    },
    {
      "cell_type": "code",
      "execution_count": null,
      "id": "039ef3e4-7d3d-4d37-89dc-70725dfa3b36",
      "metadata": {
        "id": "039ef3e4-7d3d-4d37-89dc-70725dfa3b36",
        "outputId": "edf1d891-5143-4299-a076-b2a43541c5ee",
        "colab": {
          "base_uri": "https://localhost:8080/"
        }
      },
      "outputs": [
        {
          "output_type": "stream",
          "name": "stdout",
          "text": [
            "Group D test vs. retest: 0.09740501217589806\n",
            "Group E test vs. retest: 0.025128393368049257\n",
            "Group D test vs. group E test: 0.6040909505950958\n",
            "Group D retest vs. group E retest: 0.8297590018792151\n"
          ]
        }
      ],
      "source": [
        "#3\n",
        "\n",
        "group_D_test = [5.6, 3.1, 8.7, 4.5, 6.7, 4.5]\n",
        "group_D_retest = [6.1, 5.8, 8.5, 5.3, 7.2, 5.1]\n",
        "group_E_test = [4.5, 3.9, 7.1, 4.3, 6.9, 8.2, 7.6]\n",
        "group_E_retest = [4.9, 4.7, 7.8, 4.8, 7.5, 7.8, 8.1]\n",
        "\n",
        "# Paired t-tests for DE\n",
        "p_value_group_D = stats.ttest_rel(group_D_test, group_D_retest).pvalue\n",
        "p_value_group_E = stats.ttest_rel(group_E_test, group_E_retest).pvalue\n",
        "\n",
        "# Independent t-tests for DE\n",
        "p_value_test_DE = stats.ttest_ind(group_D_test, group_E_test).pvalue\n",
        "p_value_retest_DE = stats.ttest_ind(group_D_retest, group_E_retest).pvalue\n",
        "\n",
        "\n",
        "print(f'Group D test vs retest: {p_value_group_D}')\n",
        "print(f'Group E test vs retest: {p_value_group_E}')\n",
        "print(f'Group D test vs group E test: {p_value_test_DE}')\n",
        "print(f'Group D retest vs group E retest: {p_value_retest_DE}')\n"
      ]
    },
    {
      "cell_type": "code",
      "execution_count": null,
      "id": "4507bc5a-af4c-4e73-aef0-fcab36cba667",
      "metadata": {
        "id": "4507bc5a-af4c-4e73-aef0-fcab36cba667",
        "outputId": "5878087c-6e45-4d19-d6b0-90cc351e1708",
        "colab": {
          "base_uri": "https://localhost:8080/"
        }
      },
      "outputs": [
        {
          "output_type": "stream",
          "name": "stdout",
          "text": [
            "Pearson Correlation: 0.9773664314916523\n",
            "P-value: 0.00014623458861244028\n",
            "Spearman Correlation: 0.9369749612033814\n",
            "P-value: 0.0018510301964418906\n",
            "Rank: [ 3.   1.   8.   2.   7.  14.  10.   6.   4.  11.5  5.   9.  11.5 13. ]\n",
            "Pearson Correlation of  of ranked data: 0.9082318850299546\n",
            "P-value of ranked data: 0.0046611351090371685\n"
          ]
        }
      ],
      "source": [
        "#4\n",
        "# a\n",
        "pearson = stats.pearsonr(group_E_test, group_E_retest)\n",
        "\n",
        "print(f'Pearson Correlation: {pearson.statistic}')\n",
        "print(f'P-value: {pearson.pvalue}')\n",
        "\n",
        "# b\n",
        "spearman = stats.spearmanr(group_E_test, group_E_retest)\n",
        "\n",
        "print(f'Spearman Correlation: {spearman.statistic}')\n",
        "print(f'P-value: {spearman.pvalue}')\n",
        "\n",
        "# c\n",
        "ranked = stats.rankdata(group_E_test + group_E_retest)\n",
        "print(f'Rank: {ranked}')\n",
        "\n",
        "# d\n",
        "pearson_ranked = stats.pearsonr(ranked[:len(group_E_test)], ranked[len(group_E_test):])\n",
        "\n",
        "print(f'Pearson Correlation of  of ranked data: {pearson_ranked.statistic}')\n",
        "print(f'P-value of ranked data: {pearson_ranked.pvalue}')\n",
        "\n"
      ]
    },
    {
      "cell_type": "code",
      "execution_count": null,
      "id": "13756834-a97d-410f-aea2-009756269ff8",
      "metadata": {
        "id": "13756834-a97d-410f-aea2-009756269ff8",
        "outputId": "c1a88209-ba26-4fd3-fd2d-fa2d3ef22443",
        "colab": {
          "base_uri": "https://localhost:8080/"
        }
      },
      "outputs": [
        {
          "output_type": "stream",
          "name": "stdout",
          "text": [
            "Correlation FG: 0.031276709760819636\n",
            "P-value FG: 0.7573896651044831\n",
            "Correlation FH: -0.14484643591125076\n",
            "P-value FH: 0.1504771286020554\n",
            "Correlation FI: 0.06904138113464375\n",
            "P-value FI: 0.49489205642260536\n"
          ]
        }
      ],
      "source": [
        "# 5\n",
        "df = pd.read_csv('data.csv', delimiter=',', index_col=0)\n",
        "df.head()\n",
        "\n",
        "# a\n",
        "corr_FG = stats.pearsonr(df['F'], df['G'])\n",
        "print(f'Correlation FG: {corr_FG.statistic}')\n",
        "print(f'P-value FG: {corr_FG.pvalue}')\n",
        "\n",
        "# b\n",
        "corr_FH = stats.pearsonr(df['F'], df['H'])\n",
        "print(f'Correlation FH: {corr_FH.statistic}')\n",
        "print(f'P-value FH: {corr_FH.pvalue}')\n",
        "\n",
        "# c\n",
        "corr_FI = stats.pearsonr(df['F'], df['I'])\n",
        "print(f'Correlation FI: {corr_FI.statistic}')\n",
        "print(f'P-value FI: {corr_FI.pvalue}')\n"
      ]
    },
    {
      "cell_type": "code",
      "execution_count": null,
      "id": "69821f4b-11c4-4588-8a69-5c4b9bf681b6",
      "metadata": {
        "id": "69821f4b-11c4-4588-8a69-5c4b9bf681b6"
      },
      "outputs": [],
      "source": []
    },
    {
      "cell_type": "markdown",
      "source": [
        "The correlation"
      ],
      "metadata": {
        "id": "W0PGWxLkCHLp"
      },
      "id": "W0PGWxLkCHLp"
    }
  ],
  "metadata": {
    "kernelspec": {
      "display_name": "Python 3 (ipykernel)",
      "language": "python",
      "name": "python3"
    },
    "language_info": {
      "codemirror_mode": {
        "name": "ipython",
        "version": 3
      },
      "file_extension": ".py",
      "mimetype": "text/x-python",
      "name": "python",
      "nbconvert_exporter": "python",
      "pygments_lexer": "ipython3",
      "version": "3.11.5"
    },
    "colab": {
      "provenance": [],
      "include_colab_link": true
    }
  },
  "nbformat": 4,
  "nbformat_minor": 5
}